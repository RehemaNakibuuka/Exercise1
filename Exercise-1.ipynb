{
 "cells": [
  {
   "cell_type": "code",
   "execution_count": 1,
   "id": "5d93d672-994e-4f0a-b36e-4ee9ae272376",
   "metadata": {},
   "outputs": [],
   "source": [
    "ice_cream_rating = 8\n",
    "sleep_rating = 9"
   ]
  },
  {
   "cell_type": "code",
   "execution_count": 16,
   "id": "3d476f6c-ade3-4a72-8650-39c9d80b5a19",
   "metadata": {
    "tags": []
   },
   "outputs": [
    {
     "name": "stdout",
     "output_type": "stream",
     "text": [
      "Rehema Nakibuuka\n"
     ]
    }
   ],
   "source": [
    "first_name = 'Rehema '\n",
    "last_name = 'Nakibuuka'\n",
    "my_name = first_name + last_name\n",
    "print(my_name)"
   ]
  },
  {
   "cell_type": "code",
   "execution_count": 6,
   "id": "9a0ea464-b905-4d54-84cd-da13c83168fb",
   "metadata": {
    "tags": []
   },
   "outputs": [],
   "source": [
    "happiness_rating = (ice_cream_rating+sleep_rating)/2"
   ]
  },
  {
   "cell_type": "markdown",
   "id": "b1129a42-3948-4e2d-98d9-5598a248b2fd",
   "metadata": {
    "tags": []
   },
   "source": [
    "type(ice_cream_rating)\n",
    "type(first_name)\n",
    "type(happiness_rating)\n",
    "print('ice_cream_rating:',type(ice_cream_rating),'first_name:',type(first_name),'happiness_rating:',type(happiness_rating))"
   ]
  },
  {
   "cell_type": "code",
   "execution_count": 20,
   "id": "ac85eaec-9e82-497b-8a0d-28f4617883ec",
   "metadata": {
    "tags": []
   },
   "outputs": [
    {
     "name": "stdout",
     "output_type": "stream",
     "text": [
      "my name is Rehema Nakibuuka and is give eating ice cream a score of 8 out of 10\n",
      "I am Rehema Nakibuuka and my sleeping enjoyment is 9 /10\n",
      "Based on factors above, my happiness rating is 8.5 out of 10 or  0.085 %\n"
     ]
    }
   ],
   "source": [
    "print('my name is', my_name, 'and is give eating ice cream a score of', ice_cream_rating, 'out of 10')\n",
    "print('I am', my_name, 'and my sleeping enjoyment is', sleep_rating,'/10')\n",
    "print('Based on factors above, my happiness rating is', happiness_rating, 'out of 10', 'or ', happiness_rating/100,'%')"
   ]
  },
  {
   "cell_type": "code",
   "execution_count": null,
   "id": "bee22ef8-73b0-4240-88d9-a480adf8c7e9",
   "metadata": {},
   "outputs": [],
   "source": []
  }
 ],
 "metadata": {
  "kernelspec": {
   "display_name": "Python 3 (ipykernel)",
   "language": "python",
   "name": "python3"
  },
  "language_info": {
   "codemirror_mode": {
    "name": "ipython",
    "version": 3
   },
   "file_extension": ".py",
   "mimetype": "text/x-python",
   "name": "python",
   "nbconvert_exporter": "python",
   "pygments_lexer": "ipython3",
   "version": "3.10.11"
  }
 },
 "nbformat": 4,
 "nbformat_minor": 5
}
